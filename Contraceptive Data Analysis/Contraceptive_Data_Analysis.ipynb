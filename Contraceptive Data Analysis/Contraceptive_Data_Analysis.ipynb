{
  "nbformat": 4,
  "nbformat_minor": 0,
  "metadata": {
    "colab": {
      "name": "Contraceptive Data Analysis",
      "provenance": [],
      "collapsed_sections": []
    },
    "kernelspec": {
      "name": "python3",
      "display_name": "Python 3"
    }
  },
  "cells": [
    {
      "cell_type": "markdown",
      "metadata": {
        "id": "FLQ9q0DHoQPL",
        "colab_type": "text"
      },
      "source": [
        "#**Analysis of Key Features for Predicting Number of Children**\n",
        "\n",
        "####**By: Ayda Nayeb Nazar and Matthew Lacayo**\n",
        "\n",
        "In this project, our goal was to find the most important features for predicting the number of children an Indonesian woman from 1987 had, and to explore various models to help us achieve the prediction task. The types of models used include lasso, linear regression, k-nearest neighbors, decision trees, and random forests. Feature engineering showed that standard of living had little correlation with the number of children a woman has. We compared various versions of these models against each other with cross validation to make our final selection."
      ]
    },
    {
      "cell_type": "code",
      "metadata": {
        "id": "xLEmDaHCnDjw",
        "colab_type": "code",
        "colab": {
          "base_uri": "https://localhost:8080/",
          "height": 71
        },
        "outputId": "e29299d8-bbb1-49c7-a41e-3c914b558c3b"
      },
      "source": [
        "import pandas as pd\n",
        "import sklearn\n",
        "import numpy as np\n",
        "from sklearn.preprocessing import OneHotEncoder\n",
        "from sklearn.pipeline import Pipeline\n",
        "from sklearn.compose import ColumnTransformer\n",
        "from sklearn.ensemble import RandomForestRegressor\n",
        "from sklearn.tree import DecisionTreeRegressor\n",
        "from sklearn.linear_model import RidgeClassifierCV\n",
        "from sklearn.linear_model import RidgeCV\n",
        "from sklearn.linear_model import LassoCV\n",
        "from sklearn.linear_model import LogisticRegressionCV\n",
        "from sklearn.linear_model import LinearRegression\n",
        "from sklearn.neighbors import KNeighborsRegressor\n",
        "from sklearn.preprocessing import StandardScaler\n",
        "from sklearn.impute import SimpleImputer\n",
        "from sklearn.model_selection import train_test_split\n",
        "from sklearn.model_selection import cross_val_score\n",
        "from sklearn.metrics import log_loss\n",
        "from sklearn.metrics import make_scorer\n",
        "from sklearn.metrics import r2_score\n",
        "from sklearn.metrics import mean_absolute_error\n",
        "import seaborn as sns\n",
        "from matplotlib import pyplot as plt\n",
        "\n",
        "DATA_URL = 'https://raw.githubusercontent.com/aydanazar/Data-Science-Projects/master/Contraceptive%20Data%20Analysis/data/contraceptive_for_students.csv'"
      ],
      "execution_count": 1,
      "outputs": [
        {
          "output_type": "stream",
          "text": [
            "/usr/local/lib/python3.6/dist-packages/statsmodels/tools/_testing.py:19: FutureWarning: pandas.util.testing is deprecated. Use the functions in the public API at pandas.testing instead.\n",
            "  import pandas.util.testing as tm\n"
          ],
          "name": "stderr"
        }
      ]
    },
    {
      "cell_type": "markdown",
      "metadata": {
        "id": "vT2bBm6NgOeC",
        "colab_type": "text"
      },
      "source": [
        "Let's begin by taking a look at the data set"
      ]
    },
    {
      "cell_type": "code",
      "metadata": {
        "id": "oMzAnQaD5dCC",
        "colab_type": "code",
        "colab": {
          "base_uri": "https://localhost:8080/",
          "height": 204
        },
        "outputId": "7117832e-155d-4826-b491-809fad127a51"
      },
      "source": [
        "df = pd.read_csv(DATA_URL)\n",
        "original = df.copy()\n",
        "df.head()"
      ],
      "execution_count": 2,
      "outputs": [
        {
          "output_type": "execute_result",
          "data": {
            "text/html": [
              "<div>\n",
              "<style scoped>\n",
              "    .dataframe tbody tr th:only-of-type {\n",
              "        vertical-align: middle;\n",
              "    }\n",
              "\n",
              "    .dataframe tbody tr th {\n",
              "        vertical-align: top;\n",
              "    }\n",
              "\n",
              "    .dataframe thead th {\n",
              "        text-align: right;\n",
              "    }\n",
              "</style>\n",
              "<table border=\"1\" class=\"dataframe\">\n",
              "  <thead>\n",
              "    <tr style=\"text-align: right;\">\n",
              "      <th></th>\n",
              "      <th>wife_age</th>\n",
              "      <th>wife_education</th>\n",
              "      <th>husband_education</th>\n",
              "      <th>num_child</th>\n",
              "      <th>wife_religion</th>\n",
              "      <th>wife_work</th>\n",
              "      <th>husband_occupation</th>\n",
              "      <th>standard_living</th>\n",
              "      <th>media_exposure</th>\n",
              "      <th>contraceptive</th>\n",
              "    </tr>\n",
              "  </thead>\n",
              "  <tbody>\n",
              "    <tr>\n",
              "      <th>0</th>\n",
              "      <td>24</td>\n",
              "      <td>2</td>\n",
              "      <td>3</td>\n",
              "      <td>3</td>\n",
              "      <td>1</td>\n",
              "      <td>1</td>\n",
              "      <td>2</td>\n",
              "      <td>3</td>\n",
              "      <td>0</td>\n",
              "      <td>1</td>\n",
              "    </tr>\n",
              "    <tr>\n",
              "      <th>1</th>\n",
              "      <td>45</td>\n",
              "      <td>1</td>\n",
              "      <td>3</td>\n",
              "      <td>10</td>\n",
              "      <td>1</td>\n",
              "      <td>1</td>\n",
              "      <td>3</td>\n",
              "      <td>4</td>\n",
              "      <td>0</td>\n",
              "      <td>1</td>\n",
              "    </tr>\n",
              "    <tr>\n",
              "      <th>2</th>\n",
              "      <td>43</td>\n",
              "      <td>2</td>\n",
              "      <td>3</td>\n",
              "      <td>7</td>\n",
              "      <td>1</td>\n",
              "      <td>1</td>\n",
              "      <td>3</td>\n",
              "      <td>4</td>\n",
              "      <td>0</td>\n",
              "      <td>1</td>\n",
              "    </tr>\n",
              "    <tr>\n",
              "      <th>3</th>\n",
              "      <td>42</td>\n",
              "      <td>3</td>\n",
              "      <td>2</td>\n",
              "      <td>9</td>\n",
              "      <td>1</td>\n",
              "      <td>1</td>\n",
              "      <td>3</td>\n",
              "      <td>3</td>\n",
              "      <td>0</td>\n",
              "      <td>1</td>\n",
              "    </tr>\n",
              "    <tr>\n",
              "      <th>4</th>\n",
              "      <td>36</td>\n",
              "      <td>3</td>\n",
              "      <td>3</td>\n",
              "      <td>8</td>\n",
              "      <td>1</td>\n",
              "      <td>1</td>\n",
              "      <td>3</td>\n",
              "      <td>2</td>\n",
              "      <td>0</td>\n",
              "      <td>1</td>\n",
              "    </tr>\n",
              "  </tbody>\n",
              "</table>\n",
              "</div>"
            ],
            "text/plain": [
              "   wife_age  wife_education  ...  media_exposure  contraceptive\n",
              "0        24               2  ...               0              1\n",
              "1        45               1  ...               0              1\n",
              "2        43               2  ...               0              1\n",
              "3        42               3  ...               0              1\n",
              "4        36               3  ...               0              1\n",
              "\n",
              "[5 rows x 10 columns]"
            ]
          },
          "metadata": {
            "tags": []
          },
          "execution_count": 2
        }
      ]
    },
    {
      "cell_type": "code",
      "metadata": {
        "id": "v5yYTgKatnnP",
        "colab_type": "code",
        "colab": {
          "base_uri": "https://localhost:8080/",
          "height": 34
        },
        "outputId": "74aa99aa-80e3-4fee-87b1-293c3c5289aa"
      },
      "source": [
        "df.shape"
      ],
      "execution_count": null,
      "outputs": [
        {
          "output_type": "execute_result",
          "data": {
            "text/plain": [
              "(1473, 10)"
            ]
          },
          "metadata": {
            "tags": []
          },
          "execution_count": 26
        }
      ]
    },
    {
      "cell_type": "markdown",
      "metadata": {
        "id": "nRrbTFIJpdDk",
        "colab_type": "text"
      },
      "source": [
        "Since every column besides age and num_child is categorical, we will store these in a list so that we can later onehot encode the categorical columns. Then, we will convert the categorical variables from their current numerical form into a string form that is easier to interpret. In order to work with this data, we will later onehot encode categorical variables inside a pipeline.\n"
      ]
    },
    {
      "cell_type": "code",
      "metadata": {
        "id": "dLyoQWMtpC9B",
        "colab_type": "code",
        "colab": {
          "base_uri": "https://localhost:8080/",
          "height": 204
        },
        "outputId": "9f5069ad-5fb8-42ae-9b35-ba9511ab4859"
      },
      "source": [
        "quantitative_columns = ['wife_age', 'num_child']\n",
        "categorical_columns = ['wife_education', 'husband_education', 'wife_religion', \n",
        "                       'wife_work', 'husband_occupation', 'standard_living', \n",
        "                       'media_exposure', 'contraceptive']\n",
        "df['contraceptive'] = df['contraceptive'].map({1:'None', 2:'ST', 3:'LT'})\n",
        "df['wife_education'] = df['wife_education'].map({1:'Low', 2:'Low-Medium', 3:'Medium-High', 4:\"High\"})\n",
        "df['husband_education'] = df['husband_education'].map({1:'Low', 2:'Low-Medium', 3:'Medium-High', 4:\"High\"})\n",
        "df['wife_religion'] = df['wife_religion'].map({0:'Non Islam', 1:'Islam'})\n",
        "df['wife_work'] = df['wife_work'].map({0:'Yes', 1:'No'})\n",
        "df['husband_occupation'] = df['husband_occupation'].map({1:'Professional/Technical/Clerical', \n",
        "                                                         2:'Sales/Services',\n",
        "                                                         3:\"Manual\",\n",
        "                                                         4: \"Agriculture\"})\n",
        "df['standard_living'] = df['standard_living'].map({1:'Low', 2:'Low-Medium', 3:'Medium-High', 4:\"High\"})\n",
        "df['media_exposure'] = df['media_exposure'].map({0:'Good', 1:'Not Good'})\n",
        "df.head()"
      ],
      "execution_count": null,
      "outputs": [
        {
          "output_type": "execute_result",
          "data": {
            "text/html": [
              "<div>\n",
              "<style scoped>\n",
              "    .dataframe tbody tr th:only-of-type {\n",
              "        vertical-align: middle;\n",
              "    }\n",
              "\n",
              "    .dataframe tbody tr th {\n",
              "        vertical-align: top;\n",
              "    }\n",
              "\n",
              "    .dataframe thead th {\n",
              "        text-align: right;\n",
              "    }\n",
              "</style>\n",
              "<table border=\"1\" class=\"dataframe\">\n",
              "  <thead>\n",
              "    <tr style=\"text-align: right;\">\n",
              "      <th></th>\n",
              "      <th>wife_age</th>\n",
              "      <th>wife_education</th>\n",
              "      <th>husband_education</th>\n",
              "      <th>num_child</th>\n",
              "      <th>wife_religion</th>\n",
              "      <th>wife_work</th>\n",
              "      <th>husband_occupation</th>\n",
              "      <th>standard_living</th>\n",
              "      <th>media_exposure</th>\n",
              "      <th>contraceptive</th>\n",
              "    </tr>\n",
              "  </thead>\n",
              "  <tbody>\n",
              "    <tr>\n",
              "      <th>0</th>\n",
              "      <td>24</td>\n",
              "      <td>Low-Medium</td>\n",
              "      <td>Medium-High</td>\n",
              "      <td>3</td>\n",
              "      <td>Islam</td>\n",
              "      <td>No</td>\n",
              "      <td>Sales/Services</td>\n",
              "      <td>Medium-High</td>\n",
              "      <td>Good</td>\n",
              "      <td>None</td>\n",
              "    </tr>\n",
              "    <tr>\n",
              "      <th>1</th>\n",
              "      <td>45</td>\n",
              "      <td>Low</td>\n",
              "      <td>Medium-High</td>\n",
              "      <td>10</td>\n",
              "      <td>Islam</td>\n",
              "      <td>No</td>\n",
              "      <td>Manual</td>\n",
              "      <td>High</td>\n",
              "      <td>Good</td>\n",
              "      <td>None</td>\n",
              "    </tr>\n",
              "    <tr>\n",
              "      <th>2</th>\n",
              "      <td>43</td>\n",
              "      <td>Low-Medium</td>\n",
              "      <td>Medium-High</td>\n",
              "      <td>7</td>\n",
              "      <td>Islam</td>\n",
              "      <td>No</td>\n",
              "      <td>Manual</td>\n",
              "      <td>High</td>\n",
              "      <td>Good</td>\n",
              "      <td>None</td>\n",
              "    </tr>\n",
              "    <tr>\n",
              "      <th>3</th>\n",
              "      <td>42</td>\n",
              "      <td>Medium-High</td>\n",
              "      <td>Low-Medium</td>\n",
              "      <td>9</td>\n",
              "      <td>Islam</td>\n",
              "      <td>No</td>\n",
              "      <td>Manual</td>\n",
              "      <td>Medium-High</td>\n",
              "      <td>Good</td>\n",
              "      <td>None</td>\n",
              "    </tr>\n",
              "    <tr>\n",
              "      <th>4</th>\n",
              "      <td>36</td>\n",
              "      <td>Medium-High</td>\n",
              "      <td>Medium-High</td>\n",
              "      <td>8</td>\n",
              "      <td>Islam</td>\n",
              "      <td>No</td>\n",
              "      <td>Manual</td>\n",
              "      <td>Low-Medium</td>\n",
              "      <td>Good</td>\n",
              "      <td>None</td>\n",
              "    </tr>\n",
              "  </tbody>\n",
              "</table>\n",
              "</div>"
            ],
            "text/plain": [
              "   wife_age wife_education  ... media_exposure  contraceptive\n",
              "0        24     Low-Medium  ...           Good           None\n",
              "1        45            Low  ...           Good           None\n",
              "2        43     Low-Medium  ...           Good           None\n",
              "3        42    Medium-High  ...           Good           None\n",
              "4        36    Medium-High  ...           Good           None\n",
              "\n",
              "[5 rows x 10 columns]"
            ]
          },
          "metadata": {
            "tags": []
          },
          "execution_count": 27
        }
      ]
    },
    {
      "cell_type": "markdown",
      "metadata": {
        "id": "Fx9Dcb1ag3ON",
        "colab_type": "text"
      },
      "source": [
        "To get a rough idea of how each feature correlates with the number of children a wife has, we can view the following boxplots:"
      ]
    },
    {
      "cell_type": "code",
      "metadata": {
        "id": "PNpipmKYoqb4",
        "colab_type": "code",
        "colab": {
          "base_uri": "https://localhost:8080/",
          "height": 1000
        },
        "outputId": "2984bf09-79bb-4d3c-c2d2-77a5c2f35de8"
      },
      "source": [
        "for column in categorical_columns:\n",
        "    sns.catplot(x=column, y=\"num_child\", data=df, kind='box', height=5, aspect=1.5)\n",
        "    plt.title(\"Number of Children Based on \" + column)\n",
        "    plt.show()"
      ],
      "execution_count": null,
      "outputs": [
        {
          "output_type": "display_data",
          "data": {
            "image/png": "[encoded data removed]",
            "text/plain": [
              "<Figure size 540x360 with 1 Axes>"
            ]
          },
          "metadata": {
            "tags": [],
            "needs_background": "light"
          }
        },
        {
          "output_type": "display_data",
          "data": {
            "image/png": "[encoded data removed]",
            "text/plain": [
              "<Figure size 540x360 with 1 Axes>"
            ]
          },
          "metadata": {
            "tags": [],
            "needs_background": "light"
          }
        },
        {
          "output_type": "display_data",
          "data": {
            "image/png": "[encoded data removed]",
            "text/plain": [
              "<Figure size 540x360 with 1 Axes>"
            ]
          },
          "metadata": {
            "tags": [],
            "needs_background": "light"
          }
        },
        {
          "output_type": "display_data",
          "data": {
            "image/png": "[encoded data removed]",
            "text/plain": [
              "<Figure size 540x360 with 1 Axes>"
            ]
          },
          "metadata": {
            "tags": [],
            "needs_background": "light"
          }
        },
        {
          "output_type": "display_data",
          "data": {
            "image/png": "[encoded data removed]",
            "text/plain": [
              "<Figure size 540x360 with 1 Axes>"
            ]
          },
          "metadata": {
            "tags": [],
            "needs_background": "light"
          }
        },
        {
          "output_type": "display_data",
          "data": {
            "image/png": "[encoded data removed]",
            "text/plain": [
              "<Figure size 540x360 with 1 Axes>"
            ]
          },
          "metadata": {
            "tags": [],
            "needs_background": "light"
          }
        },
        {
          "output_type": "display_data",
          "data": {
            "image/png": "[encoded data removed]",
            "text/plain": [
              "<Figure size 540x360 with 1 Axes>"
            ]
          },
          "metadata": {
            "tags": [],
            "needs_background": "light"
          }
        },
        {
          "output_type": "display_data",
          "data": {
            "image/png": "[encoded data removed]",
            "text/plain": [
              "<Figure size 540x360 with 1 Axes>"
            ]
          },
          "metadata": {
            "tags": [],
            "needs_background": "light"
          }
        }
      ]
    },
    {
      "cell_type": "markdown",
      "metadata": {
        "id": "RFFAqKrPTXVM",
        "colab_type": "text"
      },
      "source": [
        "Since our goal is to classify the type of contraceptive, we will make some plots to see the correlation between various features and the type of contraceptive. We begin by exploring the relationship between the age of the woman, and the number of kids she has. "
      ]
    },
    {
      "cell_type": "code",
      "metadata": {
        "id": "_yMfxmugWz2x",
        "colab_type": "code",
        "colab": {
          "base_uri": "https://localhost:8080/",
          "height": 443
        },
        "outputId": "abb17e4c-4a69-4b96-fa6e-e8afa7d6cb4b"
      },
      "source": [
        "ax = sns.jointplot(x=\"wife_age\",y=\"num_child\", kind='kde', data=df)\n",
        "ax.fig.suptitle(\"Jointplot of Wife's Age vs. Number of Children\")\n",
        "ax.fig.subplots_adjust(top=0.95)"
      ],
      "execution_count": null,
      "outputs": [
        {
          "output_type": "display_data",
          "data": {
            "image/png": "[encoded data removed]",
            "text/plain": [
              "<Figure size 432x432 with 3 Axes>"
            ]
          },
          "metadata": {
            "tags": [],
            "needs_background": "light"
          }
        }
      ]
    },
    {
      "cell_type": "code",
      "metadata": {
        "id": "egwJz8ga4RIQ",
        "colab_type": "code",
        "colab": {
          "base_uri": "https://localhost:8080/",
          "height": 296
        },
        "outputId": "98d75380-7429-4aad-f465-475f0448d1ec"
      },
      "source": [
        "sns.distplot(df['wife_age'])\n",
        "plt.title(\"Distribution Plot of Wife's Age\")\n",
        "plt.ylabel(\"Frequency\");"
      ],
      "execution_count": null,
      "outputs": [
        {
          "output_type": "display_data",
          "data": {
            "image/png": "[encoded data removed]",
            "text/plain": [
              "<Figure size 432x288 with 1 Axes>"
            ]
          },
          "metadata": {
            "tags": [],
            "needs_background": "light"
          }
        }
      ]
    },
    {
      "cell_type": "markdown",
      "metadata": {
        "id": "aG-7dWdlhe6s",
        "colab_type": "text"
      },
      "source": [
        "We can even try looking at a heatmap to get an idea of what features may be most helpful in our model. In this case, we want all features to be treated numerically, so we will use the original data frame."
      ]
    },
    {
      "cell_type": "code",
      "metadata": {
        "id": "5c1_hAj1hnMV",
        "colab_type": "code",
        "colab": {
          "base_uri": "https://localhost:8080/",
          "height": 429
        },
        "outputId": "b28f52b5-6ff8-473c-9041-8d7eb0d8b5bc"
      },
      "source": [
        "corr_df = original\n",
        "plt.figure(figsize=(9,5))\n",
        "sns.heatmap(corr_df.corr(), annot=True)\n",
        "plt.title(\"Color-Encoded Matrix Illustrating Feature Importance\");"
      ],
      "execution_count": null,
      "outputs": [
        {
          "output_type": "display_data",
          "data": {
            "image/png": "[encoded data removed]",
            "text/plain": [
              "<Figure size 648x360 with 2 Axes>"
            ]
          },
          "metadata": {
            "tags": [],
            "needs_background": "light"
          }
        }
      ]
    },
    {
      "cell_type": "markdown",
      "metadata": {
        "id": "KpQHz586iXHr",
        "colab_type": "text"
      },
      "source": [
        "By looking at the fourth row from the top, we can see the magnitude of correlation between the features in the X-axis, and the number of children. We can see that standard_living has a very small correlation, so we may want to consider making a model without that feature. We will continue to explore this in subsequent analysis below."
      ]
    },
    {
      "cell_type": "markdown",
      "metadata": {
        "id": "vuJk_Dg90-_-",
        "colab_type": "text"
      },
      "source": [
        "Now, we will split our data into training and testing with a 80% split."
      ]
    },
    {
      "cell_type": "code",
      "metadata": {
        "id": "DNo86Xgk1PVJ",
        "colab_type": "code",
        "colab": {}
      },
      "source": [
        "train_data, test_data = train_test_split(df, test_size=0.2, random_state=2718)"
      ],
      "execution_count": null,
      "outputs": []
    },
    {
      "cell_type": "markdown",
      "metadata": {
        "id": "aQTmgHMP2XEN",
        "colab_type": "text"
      },
      "source": [
        "We also want to keep track of all the models we make, so we will use the following dictionary throughout the notebook to store various models"
      ]
    },
    {
      "cell_type": "code",
      "metadata": {
        "id": "5EX8kPss2dSV",
        "colab_type": "code",
        "colab": {}
      },
      "source": [
        "models = {}"
      ],
      "execution_count": null,
      "outputs": []
    },
    {
      "cell_type": "markdown",
      "metadata": {
        "id": "cMuzOpuDitsw",
        "colab_type": "text"
      },
      "source": [
        "The first model we make will be a Lasso model, which an hopefully give us some insight into the most important features by inspecting the coefficients. We create our pipeline below (using mean absolute error as our scoring function) and inspect the coefficients. "
      ]
    },
    {
      "cell_type": "code",
      "metadata": {
        "id": "ucfac3XyiL0w",
        "colab_type": "code",
        "colab": {
          "base_uri": "https://localhost:8080/",
          "height": 34
        },
        "outputId": "a797a13b-1be1-4246-8e42-968a8cb328fb"
      },
      "source": [
        "categorical_columns_to_use = categorical_columns\n",
        "quantitative_columns_to_use = ['wife_age']\n",
        "model = Pipeline([\n",
        "          (\"SelectColumns\", \n",
        "                  ColumnTransformer([(\"select_categorical\", OneHotEncoder(), categorical_columns_to_use),\n",
        "                                      (\"select_quantitative\", StandardScaler(), quantitative_columns_to_use)\n",
        "                  ])),\n",
        "          (\"LassoCV\", RidgeCV(cv=5))        \n",
        "])\n",
        "\n",
        "model.fit(train_data, train_data['num_child'])\n",
        "cross_val_score(model, train_data, train_data['num_child'], scoring=make_scorer(mean_absolute_error)).mean()"
      ],
      "execution_count": null,
      "outputs": [
        {
          "output_type": "execute_result",
          "data": {
            "text/plain": [
              "1.3809828151299943"
            ]
          },
          "metadata": {
            "tags": []
          },
          "execution_count": 34
        }
      ]
    },
    {
      "cell_type": "code",
      "metadata": {
        "id": "3vDQLypdyNdK",
        "colab_type": "code",
        "colab": {
          "base_uri": "https://localhost:8080/",
          "height": 34
        },
        "outputId": "dc5e08d0-d608-42a9-befd-76b2b380a08a"
      },
      "source": [
        "mean_absolute_error(train_data['num_child'], model.predict(train_data))"
      ],
      "execution_count": null,
      "outputs": [
        {
          "output_type": "execute_result",
          "data": {
            "text/plain": [
              "1.3535637920949066"
            ]
          },
          "metadata": {
            "tags": []
          },
          "execution_count": 35
        }
      ]
    },
    {
      "cell_type": "code",
      "metadata": {
        "id": "XrtTKNu8s-dn",
        "colab_type": "code",
        "colab": {
          "base_uri": "https://localhost:8080/",
          "height": 119
        },
        "outputId": "8791938b-6b43-4b37-c12e-37a135d18676"
      },
      "source": [
        "model[\"LassoCV\"].coef_"
      ],
      "execution_count": null,
      "outputs": [
        {
          "output_type": "execute_result",
          "data": {
            "text/plain": [
              "array([-0.49199164, -0.02527383,  0.37398496,  0.14328051, -0.23362715,\n",
              "        0.08853855,  0.22345289, -0.0783643 ,  0.37487593, -0.37487593,\n",
              "        0.21123819, -0.21123819, -0.29437519,  0.10904214, -0.0604183 ,\n",
              "        0.24575135, -0.1203753 ,  0.04216296,  0.01149155,  0.06672079,\n",
              "       -0.11066179,  0.11066179,  0.31602208, -0.68768558,  0.3716635 ,\n",
              "        1.41463075])"
            ]
          },
          "metadata": {
            "tags": []
          },
          "execution_count": 36
        }
      ]
    },
    {
      "cell_type": "markdown",
      "metadata": {
        "id": "C9WkHJMejLTf",
        "colab_type": "text"
      },
      "source": [
        "Consistent with our analysis above, we find that the magnitude of the coefficients corresponding with standard living are relatively small.\n",
        "\n",
        "We will save our model in the dictionary below."
      ]
    },
    {
      "cell_type": "code",
      "metadata": {
        "id": "tsatlRC6w9E5",
        "colab_type": "code",
        "colab": {}
      },
      "source": [
        "models[\"LassoCV\"] = model"
      ],
      "execution_count": null,
      "outputs": []
    },
    {
      "cell_type": "markdown",
      "metadata": {
        "id": "rzktjjhHkm2l",
        "colab_type": "text"
      },
      "source": [
        "We start by making a baseline model to compare to: a linear regression model with all features included."
      ]
    },
    {
      "cell_type": "code",
      "metadata": {
        "id": "7dSpSD3MzKuf",
        "colab_type": "code",
        "colab": {
          "base_uri": "https://localhost:8080/",
          "height": 34
        },
        "outputId": "cfc7fc7f-570f-4ad7-fb0a-5cccd30e7b8b"
      },
      "source": [
        "categorical_columns_to_use = categorical_columns\n",
        "quantitative_columns_to_use = ['wife_age']\n",
        "model = Pipeline([\n",
        "          (\"SelectColumns\", \n",
        "                  ColumnTransformer([(\"select_categorical\", OneHotEncoder(), categorical_columns_to_use),\n",
        "                                      (\"select_quantitative\", StandardScaler(), quantitative_columns_to_use)\n",
        "                  ])),\n",
        "          (\"LinearRegression\", LinearRegression())        \n",
        "])\n",
        "\n",
        "model.fit(train_data, train_data['num_child'])\n",
        "cross_val_score(model, train_data, train_data['num_child'], scoring=make_scorer(mean_absolute_error)).mean()"
      ],
      "execution_count": null,
      "outputs": [
        {
          "output_type": "execute_result",
          "data": {
            "text/plain": [
              "1.3895706928416878"
            ]
          },
          "metadata": {
            "tags": []
          },
          "execution_count": 38
        }
      ]
    },
    {
      "cell_type": "code",
      "metadata": {
        "id": "ZsX_ba5Gze5B",
        "colab_type": "code",
        "colab": {
          "base_uri": "https://localhost:8080/",
          "height": 34
        },
        "outputId": "f8ff2e09-0405-4008-9ca5-e55dc1ec87ca"
      },
      "source": [
        "mean_absolute_error(train_data['num_child'], model.predict(train_data))"
      ],
      "execution_count": null,
      "outputs": [
        {
          "output_type": "execute_result",
          "data": {
            "text/plain": [
              "1.3624464465725807"
            ]
          },
          "metadata": {
            "tags": []
          },
          "execution_count": 39
        }
      ]
    },
    {
      "cell_type": "code",
      "metadata": {
        "id": "ZoItOiz4zfZp",
        "colab_type": "code",
        "colab": {}
      },
      "source": [
        "models[\"LinearRegression\"] = model"
      ],
      "execution_count": null,
      "outputs": []
    },
    {
      "cell_type": "markdown",
      "metadata": {
        "id": "7d0As9ZdkyL4",
        "colab_type": "text"
      },
      "source": [
        "Next, we will remove the standard_living feature, since our prior analysis showed it may not be very helpful in our task of predicting the number of children"
      ]
    },
    {
      "cell_type": "code",
      "metadata": {
        "id": "zumvQYoSzlAL",
        "colab_type": "code",
        "colab": {
          "base_uri": "https://localhost:8080/",
          "height": 34
        },
        "outputId": "5cf5ebe2-9e2e-4649-e433-ed2cd919587d"
      },
      "source": [
        "categorical_columns_to_use = ['wife_education', 'husband_education', 'wife_religion', \n",
        "                       'wife_work', 'husband_occupation', \n",
        "                       'media_exposure', 'contraceptive']\n",
        "quantitative_columns_to_use = ['wife_age']\n",
        "model = Pipeline([\n",
        "          (\"SelectColumns\", \n",
        "                  ColumnTransformer([(\"select_categorical\", OneHotEncoder(), categorical_columns_to_use),\n",
        "                                      (\"select_quantitative\", StandardScaler(), quantitative_columns_to_use)\n",
        "                  ])),\n",
        "          (\"LinearRegression\", LinearRegression())        \n",
        "])\n",
        "\n",
        "model.fit(train_data, train_data['num_child'])\n",
        "cross_val_score(model, train_data, train_data['num_child'], scoring=make_scorer(mean_absolute_error)).mean()"
      ],
      "execution_count": null,
      "outputs": [
        {
          "output_type": "execute_result",
          "data": {
            "text/plain": [
              "1.3813585523350163"
            ]
          },
          "metadata": {
            "tags": []
          },
          "execution_count": 41
        }
      ]
    },
    {
      "cell_type": "code",
      "metadata": {
        "id": "wzNIOaBIzpJy",
        "colab_type": "code",
        "colab": {
          "base_uri": "https://localhost:8080/",
          "height": 34
        },
        "outputId": "a94c8bcf-fead-4033-b360-759526c18f04"
      },
      "source": [
        "mean_absolute_error(train_data['num_child'], model.predict(train_data))"
      ],
      "execution_count": null,
      "outputs": [
        {
          "output_type": "execute_result",
          "data": {
            "text/plain": [
              "1.362465513582343"
            ]
          },
          "metadata": {
            "tags": []
          },
          "execution_count": 42
        }
      ]
    },
    {
      "cell_type": "code",
      "metadata": {
        "id": "h4AyApPx2WOT",
        "colab_type": "code",
        "colab": {}
      },
      "source": [
        "models[\"LR-no-SL\"] = model"
      ],
      "execution_count": null,
      "outputs": []
    },
    {
      "cell_type": "markdown",
      "metadata": {
        "id": "pgVosJeqk826",
        "colab_type": "text"
      },
      "source": [
        "Sure enough, we achieved a lower cross validation score. The next feature with the smallest correlation to number of children is husband occupation, so we will try removing it."
      ]
    },
    {
      "cell_type": "code",
      "metadata": {
        "id": "qvMbzX0E0Rwp",
        "colab_type": "code",
        "colab": {
          "base_uri": "https://localhost:8080/",
          "height": 34
        },
        "outputId": "46d03b0b-f02b-4ffe-9211-1ddc976e5cda"
      },
      "source": [
        "categorical_columns_to_use = ['wife_education', 'husband_education', 'wife_religion', \n",
        "                       'wife_work', 'media_exposure', 'contraceptive']\n",
        "quantitative_columns_to_use = ['wife_age']\n",
        "model = Pipeline([\n",
        "          (\"SelectColumns\", \n",
        "                  ColumnTransformer([(\"select_categorical\", OneHotEncoder(), categorical_columns_to_use),\n",
        "                                      (\"select_quantitative\", StandardScaler(), quantitative_columns_to_use)\n",
        "                  ])),\n",
        "          (\"LinearRegression\", LinearRegression())        \n",
        "])\n",
        "\n",
        "model.fit(train_data, train_data['num_child'])\n",
        "cross_val_score(model, train_data, train_data['num_child'], scoring=make_scorer(mean_absolute_error)).mean()"
      ],
      "execution_count": null,
      "outputs": [
        {
          "output_type": "execute_result",
          "data": {
            "text/plain": [
              "1.3861057536540975"
            ]
          },
          "metadata": {
            "tags": []
          },
          "execution_count": 44
        }
      ]
    },
    {
      "cell_type": "code",
      "metadata": {
        "id": "Od233iXm2eQd",
        "colab_type": "code",
        "colab": {
          "base_uri": "https://localhost:8080/",
          "height": 34
        },
        "outputId": "9df5e901-85a9-4e97-e30c-812e8ddf1274"
      },
      "source": [
        "mean_absolute_error(train_data['num_child'], model.predict(train_data))"
      ],
      "execution_count": null,
      "outputs": [
        {
          "output_type": "execute_result",
          "data": {
            "text/plain": [
              "1.3659837913837012"
            ]
          },
          "metadata": {
            "tags": []
          },
          "execution_count": 45
        }
      ]
    },
    {
      "cell_type": "code",
      "metadata": {
        "id": "eXuOmQ8K2gOc",
        "colab_type": "code",
        "colab": {}
      },
      "source": [
        "models['LR-no-SL-no-HO'] = model"
      ],
      "execution_count": null,
      "outputs": []
    },
    {
      "cell_type": "markdown",
      "metadata": {
        "id": "Za3hR8JJmnMv",
        "colab_type": "text"
      },
      "source": [
        "Finally, we can also try removing wife_religion since it has the next smallest correlation."
      ]
    },
    {
      "cell_type": "code",
      "metadata": {
        "id": "mjHB8iLH2js9",
        "colab_type": "code",
        "colab": {
          "base_uri": "https://localhost:8080/",
          "height": 34
        },
        "outputId": "8d398970-86c7-4ae6-da3b-ee94b8df59dc"
      },
      "source": [
        "categorical_columns_to_use = ['wife_education', 'husband_education', \n",
        "                       'wife_work', 'media_exposure', \n",
        "                       'contraceptive']\n",
        "quantitative_columns_to_use = ['wife_age']\n",
        "model = Pipeline([\n",
        "          (\"SelectColumns\", \n",
        "                  ColumnTransformer([(\"select_categorical\", OneHotEncoder(), categorical_columns_to_use),\n",
        "                                      (\"select_quantitative\", StandardScaler(), quantitative_columns_to_use)\n",
        "                  ])),\n",
        "          (\"LinearRegression\", LinearRegression())        \n",
        "])\n",
        "\n",
        "model.fit(train_data, train_data['num_child'])\n",
        "cross_val_score(model, train_data, train_data['num_child'], scoring=make_scorer(mean_absolute_error)).mean()"
      ],
      "execution_count": null,
      "outputs": [
        {
          "output_type": "execute_result",
          "data": {
            "text/plain": [
              "1.3948187319689869"
            ]
          },
          "metadata": {
            "tags": []
          },
          "execution_count": 47
        }
      ]
    },
    {
      "cell_type": "code",
      "metadata": {
        "id": "hv4icRkf3yaU",
        "colab_type": "code",
        "colab": {
          "base_uri": "https://localhost:8080/",
          "height": 34
        },
        "outputId": "ca29617e-5e5d-42a5-923c-8b1fedb07567"
      },
      "source": [
        "mean_absolute_error(train_data['num_child'], model.predict(train_data))"
      ],
      "execution_count": null,
      "outputs": [
        {
          "output_type": "execute_result",
          "data": {
            "text/plain": [
              "1.3753581281833616"
            ]
          },
          "metadata": {
            "tags": []
          },
          "execution_count": 48
        }
      ]
    },
    {
      "cell_type": "code",
      "metadata": {
        "id": "LLHxoHoK6OY8",
        "colab_type": "code",
        "colab": {}
      },
      "source": [
        "models['LR-no-SL-no-HO-no-WR'] = model"
      ],
      "execution_count": null,
      "outputs": []
    },
    {
      "cell_type": "markdown",
      "metadata": {
        "id": "JCLvbY6fnG_V",
        "colab_type": "text"
      },
      "source": [
        "Our best LR model was the one where we only removed standard_living. Of all our models, the LassoCV model performed best in terms of cross validation score. Now, we will make 3 more models: a K-nearest-neighbors model, a decision tree, and a random forest. All of these will be made without the standard living feature.\n",
        "\n",
        "We start with the KNN classifier. We can use cross validation to pick the best value of k. We will iterate over the values between 1 and 50, and pick the k value that minimized the CV score."
      ]
    },
    {
      "cell_type": "code",
      "metadata": {
        "id": "0rCIToMWnFtV",
        "colab_type": "code",
        "colab": {
          "base_uri": "https://localhost:8080/",
          "height": 34
        },
        "outputId": "e8d4b56b-be26-4c65-cace-63b124d75549"
      },
      "source": [
        "categorical_columns_to_use = ['wife_education', 'husband_education', 'wife_religion', \n",
        "                       'wife_work', 'media_exposure', 'contraceptive',\n",
        "                       'husband_occupation']\n",
        "quantitative_columns_to_use = ['wife_age']\n",
        "scores = []\n",
        "for k in range(1, 51, 1):\n",
        "  model = Pipeline([\n",
        "            (\"SelectColumns\", \n",
        "                    ColumnTransformer([(\"select_categorical\", OneHotEncoder(), categorical_columns_to_use),\n",
        "                                        (\"select_quantitative\", StandardScaler(), quantitative_columns_to_use)\n",
        "                    ])),\n",
        "            (\"KNearestNeighbors\", KNeighborsRegressor(n_neighbors=k))        \n",
        "  ])\n",
        "  model.fit(train_data, train_data['num_child'])\n",
        "  cv_score = cross_val_score(model, train_data, train_data['num_child'], scoring=make_scorer(mean_absolute_error)).mean()\n",
        "  scores.append(cv_score)\n",
        "best_k = np.argmin(scores) + 1\n",
        "model = Pipeline([\n",
        "            (\"SelectColumns\", \n",
        "                    ColumnTransformer([(\"select_categorical\", OneHotEncoder(), categorical_columns_to_use),\n",
        "                                        (\"select_quantitative\", StandardScaler(), quantitative_columns_to_use)\n",
        "                    ])),\n",
        "            (\"KNearestNeighbors\", KNeighborsRegressor(n_neighbors=best_k))        \n",
        "  ])\n",
        "model.fit(train_data, train_data['num_child'])\n",
        "cross_val_score(model, train_data, train_data['num_child'], scoring=make_scorer(mean_absolute_error)).mean()"
      ],
      "execution_count": null,
      "outputs": [
        {
          "output_type": "execute_result",
          "data": {
            "text/plain": [
              "1.42399370553716"
            ]
          },
          "metadata": {
            "tags": []
          },
          "execution_count": 50
        }
      ]
    },
    {
      "cell_type": "code",
      "metadata": {
        "id": "kpUDB_Tnoakl",
        "colab_type": "code",
        "colab": {
          "base_uri": "https://localhost:8080/",
          "height": 34
        },
        "outputId": "75844d13-f456-4665-e943-733c202d07c6"
      },
      "source": [
        "mean_absolute_error(train_data['num_child'], model.predict(train_data))"
      ],
      "execution_count": null,
      "outputs": [
        {
          "output_type": "execute_result",
          "data": {
            "text/plain": [
              "1.3916885321808923"
            ]
          },
          "metadata": {
            "tags": []
          },
          "execution_count": 51
        }
      ]
    },
    {
      "cell_type": "code",
      "metadata": {
        "id": "li8LlCkoog0Y",
        "colab_type": "code",
        "colab": {}
      },
      "source": [
        "models[\"KNN-no-SL\"] = model"
      ],
      "execution_count": null,
      "outputs": []
    },
    {
      "cell_type": "markdown",
      "metadata": {
        "id": "wJYfIL60wpC7",
        "colab_type": "text"
      },
      "source": [
        "Now we can try a decision tree. We will tune the max_depth hyperparameter similarly to how we did it above."
      ]
    },
    {
      "cell_type": "code",
      "metadata": {
        "id": "RawraUJtwyJR",
        "colab_type": "code",
        "colab": {
          "base_uri": "https://localhost:8080/",
          "height": 34
        },
        "outputId": "e751c860-f2ce-42a2-ebf7-dfdf45877d23"
      },
      "source": [
        "categorical_columns_to_use = ['wife_education', 'husband_education', 'wife_religion', \n",
        "                       'wife_work', 'media_exposure', 'contraceptive',\n",
        "                       'husband_occupation']\n",
        "quantitative_columns_to_use = ['wife_age']\n",
        "scores = []\n",
        "for k in range(1, 21, 1):\n",
        "  model = Pipeline([\n",
        "            (\"SelectColumns\", \n",
        "                    ColumnTransformer([(\"select_categorical\", OneHotEncoder(), categorical_columns_to_use),\n",
        "                                        (\"select_quantitative\", StandardScaler(), quantitative_columns_to_use)\n",
        "                    ])),\n",
        "            (\"DecisionTree\", DecisionTreeRegressor(max_depth=k, random_state=314))        \n",
        "  ])\n",
        "  model.fit(train_data, train_data['num_child'])\n",
        "  cv_score = cross_val_score(model, train_data, train_data['num_child'], scoring=make_scorer(mean_absolute_error)).mean()\n",
        "  scores.append(cv_score)\n",
        "best_k = np.argmin(scores) + 1\n",
        "model = Pipeline([\n",
        "            (\"SelectColumns\", \n",
        "                    ColumnTransformer([(\"select_categorical\", OneHotEncoder(), categorical_columns_to_use),\n",
        "                                        (\"select_quantitative\", StandardScaler(), quantitative_columns_to_use)\n",
        "                    ])),\n",
        "            (\"DecisionTree\", DecisionTreeRegressor(max_depth=best_k, random_state=314))        \n",
        "  ])\n",
        "model.fit(train_data, train_data['num_child'])\n",
        "cross_val_score(model, train_data, train_data['num_child'], scoring=make_scorer(mean_absolute_error)).mean()"
      ],
      "execution_count": null,
      "outputs": [
        {
          "output_type": "execute_result",
          "data": {
            "text/plain": [
              "1.4414357318116537"
            ]
          },
          "metadata": {
            "tags": []
          },
          "execution_count": 53
        }
      ]
    },
    {
      "cell_type": "code",
      "metadata": {
        "id": "t50fHv_zzTx2",
        "colab_type": "code",
        "colab": {
          "base_uri": "https://localhost:8080/",
          "height": 34
        },
        "outputId": "490000a3-b6cb-4f74-b993-20843c09b8da"
      },
      "source": [
        "mean_absolute_error(train_data['num_child'], model.predict(train_data))"
      ],
      "execution_count": null,
      "outputs": [
        {
          "output_type": "execute_result",
          "data": {
            "text/plain": [
              "1.3198331696297525"
            ]
          },
          "metadata": {
            "tags": []
          },
          "execution_count": 54
        }
      ]
    },
    {
      "cell_type": "code",
      "metadata": {
        "id": "xPYHgH8qzU9R",
        "colab_type": "code",
        "colab": {}
      },
      "source": [
        "models[\"DecisionTree-no-SL\"] = model"
      ],
      "execution_count": null,
      "outputs": []
    },
    {
      "cell_type": "markdown",
      "metadata": {
        "id": "Oh-lZlEVzYMd",
        "colab_type": "text"
      },
      "source": [
        "Lastly, we will train a random forest model below, tuning the n_estimators hyperparameter with cross validation. We will also set the max_depth hyperparameter to the value we found for the decision tree."
      ]
    },
    {
      "cell_type": "code",
      "metadata": {
        "id": "xrMThVFwz01_",
        "colab_type": "code",
        "colab": {
          "base_uri": "https://localhost:8080/",
          "height": 34
        },
        "outputId": "6209157a-a5b8-437c-e37d-51028b9af35d"
      },
      "source": [
        "categorical_columns_to_use = ['wife_education', 'husband_education', 'wife_religion', \n",
        "                       'wife_work', 'media_exposure', 'contraceptive',\n",
        "                       'husband_occupation']\n",
        "quantitative_columns_to_use = ['wife_age']\n",
        "scores = []\n",
        "for n in range(1, 101, 1):\n",
        "  model = Pipeline([\n",
        "            (\"SelectColumns\", \n",
        "                    ColumnTransformer([(\"select_categorical\", OneHotEncoder(), categorical_columns_to_use),\n",
        "                                        (\"select_quantitative\", StandardScaler(), quantitative_columns_to_use)\n",
        "                    ])),\n",
        "            (\"RandomForest\", RandomForestRegressor(n_estimators=n, max_depth=best_k, random_state=314))        \n",
        "  ])\n",
        "  model.fit(train_data, train_data['num_child'])\n",
        "  cv_score = cross_val_score(model, train_data, train_data['num_child'], scoring=make_scorer(mean_absolute_error)).mean()\n",
        "  scores.append(cv_score)\n",
        "best_n = np.argmin(scores) + 1\n",
        "model = Pipeline([\n",
        "            (\"SelectColumns\", \n",
        "                    ColumnTransformer([(\"select_categorical\", OneHotEncoder(), categorical_columns_to_use),\n",
        "                                        (\"select_quantitative\", StandardScaler(), quantitative_columns_to_use)\n",
        "                    ])),\n",
        "            (\"RandomForest\", RandomForestRegressor(n_estimators=best_n, max_depth=best_k, random_state=314))        \n",
        "  ])\n",
        "model.fit(train_data, train_data['num_child'])\n",
        "cross_val_score(model, train_data, train_data['num_child'], scoring=make_scorer(mean_absolute_error)).mean()"
      ],
      "execution_count": null,
      "outputs": [
        {
          "output_type": "execute_result",
          "data": {
            "text/plain": [
              "1.3709468884835065"
            ]
          },
          "metadata": {
            "tags": []
          },
          "execution_count": 56
        }
      ]
    },
    {
      "cell_type": "code",
      "metadata": {
        "id": "OTUw028d00hl",
        "colab_type": "code",
        "colab": {
          "base_uri": "https://localhost:8080/",
          "height": 34
        },
        "outputId": "0d40ec80-d7ee-4939-f738-dffc6081d24b"
      },
      "source": [
        "mean_absolute_error(train_data['num_child'], model.predict(train_data))"
      ],
      "execution_count": null,
      "outputs": [
        {
          "output_type": "execute_result",
          "data": {
            "text/plain": [
              "1.2439053841719618"
            ]
          },
          "metadata": {
            "tags": []
          },
          "execution_count": 57
        }
      ]
    },
    {
      "cell_type": "code",
      "metadata": {
        "id": "ya_IT9-a02R1",
        "colab_type": "code",
        "colab": {}
      },
      "source": [
        "models[\"RandomForest-no-SL\"] = model"
      ],
      "execution_count": null,
      "outputs": []
    },
    {
      "cell_type": "markdown",
      "metadata": {
        "id": "88gaVA1Wolj9",
        "colab_type": "text"
      },
      "source": [
        "Sure enough, this random forest model ended up having the lowest cross validation score. We will now evaluate our final model on the testing set."
      ]
    },
    {
      "cell_type": "code",
      "metadata": {
        "id": "SQvfWoewok2i",
        "colab_type": "code",
        "colab": {
          "base_uri": "https://localhost:8080/",
          "height": 34
        },
        "outputId": "fbb8e53e-5d1d-456a-de16-f3714746a7b8"
      },
      "source": [
        "model = models[\"RandomForest-no-SL\"]\n",
        "mean_absolute_error(test_data['num_child'], model.predict(test_data))"
      ],
      "execution_count": null,
      "outputs": [
        {
          "output_type": "execute_result",
          "data": {
            "text/plain": [
              "1.3668842837321524"
            ]
          },
          "metadata": {
            "tags": []
          },
          "execution_count": 59
        }
      ]
    },
    {
      "cell_type": "markdown",
      "metadata": {
        "id": "P_PkZ-AzpSSc",
        "colab_type": "text"
      },
      "source": [
        "Our testing error ended up being slightly lower than our estimate from the CV score, but still very close to it. The average distance of our predictions from their true value was about 1.367 units on the testing set.\n",
        "\n",
        "Finally, we can visualize the scores for all of our models on the graph below."
      ]
    },
    {
      "cell_type": "code",
      "metadata": {
        "id": "QdPM51xb1_Bx",
        "colab_type": "code",
        "colab": {
          "base_uri": "https://localhost:8080/",
          "height": 482
        },
        "outputId": "8eda8dcb-6988-4ca6-8ae8-e4b1fc147256"
      },
      "source": [
        "models_w_errs = {\"model\": [], \"cross_val_score\": [], \"mean_abs_err\": []}\n",
        "for name, model in models.items():\n",
        "  models_w_errs['model'].append(name)\n",
        "  models_w_errs[\"cross_val_score\"].append(cross_val_score(model, train_data, train_data['num_child'], scoring=make_scorer(mean_absolute_error)).mean())\n",
        "  models_w_errs[\"mean_abs_err\"].append(mean_absolute_error(train_data['num_child'], model.predict(train_data)))\n",
        "models_df = pd.DataFrame(models_w_errs)\n",
        "tidy = models_df.melt(id_vars='model').rename(columns=str.title)\n",
        "plt.figure(figsize=(10,6))\n",
        "ax = sns.barplot(x=\"Model\", y=\"Value\", hue=\"Variable\", data=tidy)\n",
        "ax.set_ylabel(\"Error\")\n",
        "ax.set_xticklabels(ax.get_xticklabels(), rotation=45)\n",
        "ax.legend(loc='center right', bbox_to_anchor=(1.25, 0.5), ncol=1)\n",
        "plt.title(\"Cross Validation Scores and Mean Absolute Error for Various Models\");"
      ],
      "execution_count": null,
      "outputs": [
        {
          "output_type": "display_data",
          "data": {
            "image/png": "[encoded data removed]",
            "text/plain": [
              "<Figure size 720x432 with 1 Axes>"
            ]
          },
          "metadata": {
            "tags": [],
            "needs_background": "light"
          }
        }
      ]
    },
    {
      "cell_type": "code",
      "metadata": {
        "id": "G96dCgl_Hm4c",
        "colab_type": "code",
        "colab": {}
      },
      "source": [
        ""
      ],
      "execution_count": null,
      "outputs": []
    }
  ]
}